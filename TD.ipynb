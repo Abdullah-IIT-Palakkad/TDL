{
  "cells": [
    {
      "cell_type": "code",
      "execution_count": null,
      "metadata": {
        "id": "xNTkimSHTeFv"
      },
      "outputs": [],
      "source": [
        "import numpy as np\n",
        "import matplotlib.pyplot as plt\n",
        "import random"
      ]
    },
    {
      "cell_type": "markdown",
      "metadata": {},
      "source": [
        "## Environment"
      ]
    },
    {
      "cell_type": "code",
      "execution_count": null,
      "metadata": {
        "id": "AueW7PGPyleX"
      },
      "outputs": [],
      "source": [
        "N = 10 # STATE\n",
        "GRID = np.zeros((N, N)) # ENVIRONMENT\n",
        "ACTIONS = ['L', 'R', 'U', 'D', 'S'] # ACTION\n",
        "TERMINAL = [N-1, N-1]\n",
        "REWARD = np.zeros((N, N)); # REWARD\n",
        "REWARD[TERMINAL[0]][TERMINAL[1]] = 1 \n",
        "GAMMA = 0.9\n",
        "ALPHA = 0.5\n",
        "\n",
        "# TRANSITION\n",
        "def move(state = [0, 0], action = 'S'):\n",
        "    if state == TERMINAL:\n",
        "        return state\n",
        "    if action == 'L':\n",
        "        state = [ (state[0]-1)%N , state[1] ]\n",
        "    elif action == 'R':\n",
        "        state = [ (state[0]+1)%N , state[1] ]\n",
        "    elif action == 'U':\n",
        "        state = [ state[0] , (state[1]+1)%N ]\n",
        "    elif action == 'D':\n",
        "        state = [ state[0] , (state[1]-1)%N ]\n",
        "    return state    \n",
        "\n"
      ]
    },
    {
      "cell_type": "code",
      "execution_count": null,
      "metadata": {
        "colab": {
          "base_uri": "https://localhost:8080/",
          "height": 282
        },
        "id": "trDPaSwn1aMX",
        "outputId": "56a1860c-6615-40f7-b98b-cdd8f192ba3d"
      },
      "outputs": [
        {
          "data": {
            "text/plain": [
              "<matplotlib.image.AxesImage at 0x7fac7efd62d0>"
            ]
          },
          "execution_count": 3,
          "metadata": {
            "tags": []
          },
          "output_type": "execute_result"
        },
        {
          "data": {
            "image/png": "[encoded data removed]",
            "text/plain": [
              "<Figure size 432x288 with 1 Axes>"
            ]
          },
          "metadata": {
            "needs_background": "light",
            "tags": []
          },
          "output_type": "display_data"
        }
      ],
      "source": [
        "plt.imshow( REWARD, origin=\"lower\")"
      ]
    },
    {
      "cell_type": "markdown",
      "metadata": {
        "id": "a_CbiUDYOQJl"
      },
      "source": [
        "## Temporal Difference Learning"
      ]
    },
    {
      "cell_type": "code",
      "execution_count": null,
      "metadata": {
        "id": "VeHvalu43Us7"
      },
      "outputs": [],
      "source": [
        "def TDL(epochs):\n",
        "    V = np.zeros((N, N))\n",
        "    for _ in range(epochs):\n",
        "        # START STATE\n",
        "        si = [0, 0]\n",
        "        while 1:\n",
        "            # Monte-Carlo policy\n",
        "            a = random.choice(ACTIONS)\n",
        "            # next state <- Action on state si\n",
        "            sj = move(si, a)\n",
        "            # UPDATE\n",
        "            V[si[0]][si[1]] += ALPHA * ( REWARD[si[0]][si[1]] + GAMMA * V[sj[0]][sj[1]] - V[si[0]][si[1]])\n",
        "            # CHECK\n",
        "            if si == TERMINAL : \n",
        "                break\n",
        "            # STATE UPDATE\n",
        "            si = sj\n",
        "    return V\n",
        "\n"
      ]
    },
    {
      "cell_type": "code",
      "execution_count": null,
      "metadata": {
        "colab": {
          "base_uri": "https://localhost:8080/"
        },
        "id": "vWeZC3upOeL1",
        "outputId": "549be455-fc4d-4f2e-f524-c017538348b7"
      },
      "outputs": [
        {
          "name": "stdout",
          "output_type": "stream",
          "text": [
            "[[ 3.95367609  1.58479243  0.1983034   0.14164926  0.0791726   0.11631963\n",
            "   0.29341372  1.72609465  0.64701179  0.9889126 ]\n",
            " [ 1.05466559  0.30319524  0.12964152  0.09228437  0.05545416  0.12991938\n",
            "   0.21671244  0.35940334  0.50422501  0.40817117]\n",
            " [ 0.17673596  0.16170159  0.10953322  0.03724144  0.03479687  0.0809899\n",
            "   0.09467319  0.17213743  0.20530806  0.1087357 ]\n",
            " [ 0.10237392  0.10985651  0.04283711  0.03877898  0.03432153  0.0661607\n",
            "   0.0828686   0.09735561  0.08405978  0.10493519]\n",
            " [ 0.10869437  0.0920093   0.07115008  0.04016405  0.03344548  0.04650898\n",
            "   0.04902941  0.09572317  0.07726036  0.08164508]\n",
            " [ 0.14822389  0.28883328  0.07844739  0.04999751  0.05939064  0.04610773\n",
            "   0.04802564  0.08089148  0.19557731  0.12381219]\n",
            " [ 0.20928993  0.40983361  0.28107412  0.10761345  0.06210469  0.06475533\n",
            "   0.19384655  0.2747844   0.46463241  0.30603886]\n",
            " [ 1.40981888  0.50407242  0.25890489  0.18820635  0.12287974  0.1219793\n",
            "   0.57762787  0.70284754  1.26284114  0.51829061]\n",
            " [ 2.71612626  0.86627645  0.56480385  0.28186221  0.17940553  0.2085457\n",
            "   0.48771485  1.0469522   1.47567326  1.26009017]\n",
            " [ 8.27656043  1.11015585  0.38012587  0.15248829  0.13451872  0.40335174\n",
            "   1.05929085  0.90601302  3.91118459 10.        ]]\n"
          ]
        }
      ],
      "source": [
        "value = TDL( 1000 )\n",
        "print(value)"
      ]
    },
    {
      "cell_type": "code",
      "execution_count": null,
      "metadata": {
        "colab": {
          "base_uri": "https://localhost:8080/",
          "height": 282
        },
        "id": "Mc3MkxTvOsAt",
        "outputId": "ee2e51c3-a7b9-4133-c5a6-6eafe894a71b"
      },
      "outputs": [
        {
          "data": {
            "text/plain": [
              "<matplotlib.image.AxesImage at 0x7fac77f82fd0>"
            ]
          },
          "execution_count": 6,
          "metadata": {
            "tags": []
          },
          "output_type": "execute_result"
        },
        {
          "data": {
            "image/png": "[encoded data removed]",
            "text/plain": [
              "<Figure size 432x288 with 1 Axes>"
            ]
          },
          "metadata": {
            "needs_background": "light",
            "tags": []
          },
          "output_type": "display_data"
        }
      ],
      "source": [
        "plt.imshow(value, origin='lower')"
      ]
    }
  ],
  "metadata": {
    "colab": {
      "name": "111801001-Assignment2.ipynb",
      "provenance": []
    },
    "kernelspec": {
      "display_name": "Python 3",
      "name": "python3"
    },
    "language_info": {
      "name": "python"
    }
  },
  "nbformat": 4,
  "nbformat_minor": 0
}
