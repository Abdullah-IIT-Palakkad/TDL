{
  "nbformat": 4,
  "nbformat_minor": 0,
  "metadata": {
    "colab": {
      "name": "111801001-Assignment1.ipynb",
      "provenance": []
    },
    "kernelspec": {
      "name": "python3",
      "display_name": "Python 3"
    },
    "language_info": {
      "name": "python"
    }
  },
  "cells": [
    {
      "cell_type": "markdown",
      "metadata": {
        "id": "pUWDWB8xVY4I"
      },
      "source": [
        "Toy Problem\n",
        "\n",
        "* S = {$s^1, s^2$}  \n",
        "* A = { LEFT, RIGHT }  \n",
        "* R = $ \\begin{bmatrix} 1 \\\\ 5 \\end{bmatrix}$"
      ]
    },
    {
      "cell_type": "markdown",
      "metadata": {
        "id": "rJ6dFfI3a2fN"
      },
      "source": [
        "Transition Probabilities\n",
        "\n",
        "<img src=\"data:image/png;base64,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\" alt=\"RL Toy Example.png\" width=\"500\"/>"
      ]
    },
    {
      "cell_type": "code",
      "metadata": {
        "id": "oKI7TyVzKYHx"
      },
      "source": [
        "import numpy as np\n",
        "import itertools\n",
        "import matplotlib.pyplot as plt\n",
        "import random"
      ],
      "execution_count": null,
      "outputs": []
    },
    {
      "cell_type": "code",
      "metadata": {
        "id": "ja_S_CtzFK_L"
      },
      "source": [
        "STATES  = ['s1', 's2']\n",
        "ACTIONS = ['LEFT', 'RIGHT']\n",
        "REWARD  = {'s1':1, 's2':5}\n",
        "GAMMA = 0.9"
      ],
      "execution_count": null,
      "outputs": []
    },
    {
      "cell_type": "code",
      "metadata": {
        "id": "ssIe4iVyvqW0"
      },
      "source": [
        "PROB = {\n",
        "    \"s1\":{\n",
        "        \"LEFT\"  : { \"s1\": 0.9, \"s2\":0.1 },\n",
        "        \"RIGHT\" : { \"s1\": 0.1, \"s2\":0.9 }\n",
        "    },\n",
        "    \"s2\":{\n",
        "        \"LEFT\"  : { \"s1\": 0.9, \"s2\":0.1 },\n",
        "        \"RIGHT\" : { \"s1\": 0.1, \"s2\":0.9 }\n",
        "    }\n",
        "}"
      ],
      "execution_count": null,
      "outputs": []
    },
    {
      "cell_type": "code",
      "metadata": {
        "id": "HEdDS4FLKDU8"
      },
      "source": [
        "P = lambda pi : np.array(\n",
        "                    [   [ PROB['s1'][ pi['s1'] ]['s1'], PROB['s1'][ pi['s1'] ]['s2'] ],\n",
        "                        [ PROB['s2'][ pi['s2'] ]['s1'], PROB['s2'][ pi['s2'] ]['s2'] ]\n",
        "                    ]\n",
        "                )"
      ],
      "execution_count": null,
      "outputs": []
    },
    {
      "cell_type": "markdown",
      "metadata": {
        "id": "xP6CX2T6FI3H"
      },
      "source": [
        "## Question 1\n",
        "**Policies**"
      ]
    },
    {
      "cell_type": "code",
      "metadata": {
        "id": "wCgFde7TG9h1"
      },
      "source": [
        "# Total of 4 policies (2 states * 2 actions)\n",
        "\n",
        "policy = [dict(zip(STATES, i)) for i in itertools.product(ACTIONS, repeat=len(STATES)) ]   "
      ],
      "execution_count": null,
      "outputs": []
    },
    {
      "cell_type": "code",
      "metadata": {
        "colab": {
          "base_uri": "https://localhost:8080/"
        },
        "id": "YXxhWQmwJNAE",
        "outputId": "38c26502-2823-4b74-a47c-06ba1e26637e"
      },
      "source": [
        "print(\"Number of policies = %d\" % len(policy) )"
      ],
      "execution_count": null,
      "outputs": [
        {
          "output_type": "stream",
          "text": [
            "Number of policies = 4\n"
          ],
          "name": "stdout"
        }
      ]
    },
    {
      "cell_type": "markdown",
      "metadata": {
        "id": "VdBgF9a6GGKg"
      },
      "source": [
        "## Question 2"
      ]
    },
    {
      "cell_type": "markdown",
      "metadata": {
        "id": "kqHPXY6E0BHg"
      },
      "source": [
        "**Value of a policy $\\pi$**\n",
        "* $ V^\\pi = R * (I-\\gamma P^\\pi )^{-1} $"
      ]
    },
    {
      "cell_type": "code",
      "metadata": {
        "id": "KpBUS4BQzw72"
      },
      "source": [
        "def V_PI( pi ):\n",
        "    R = np.array( list( REWARD.values() ) )\n",
        "    n = R.shape[0]\n",
        "    inv = np.linalg.inv( np.identity(n) - GAMMA * P( pi ) )\n",
        "    return np.matmul(inv, R)"
      ],
      "execution_count": null,
      "outputs": []
    },
    {
      "cell_type": "code",
      "metadata": {
        "colab": {
          "base_uri": "https://localhost:8080/"
        },
        "id": "1dfrdWcC2TpD",
        "outputId": "81bc94da-a23b-4209-de76-542e6f44309f"
      },
      "source": [
        "for pi in policy:\n",
        "    print(\"Policy: \", pi, \"\\nhas value: \", V_PI( pi ), \"\\n\")"
      ],
      "execution_count": null,
      "outputs": [
        {
          "output_type": "stream",
          "text": [
            "Policy:  {'s1': 'LEFT', 's2': 'LEFT'} \n",
            "has value:  [13.6 17.6] \n",
            "\n",
            "Policy:  {'s1': 'LEFT', 's2': 'RIGHT'} \n",
            "has value:  [22.85714286 37.14285714] \n",
            "\n",
            "Policy:  {'s1': 'RIGHT', 's2': 'LEFT'} \n",
            "has value:  [28.8372093 31.1627907] \n",
            "\n",
            "Policy:  {'s1': 'RIGHT', 's2': 'RIGHT'} \n",
            "has value:  [42.4 46.4] \n",
            "\n"
          ],
          "name": "stdout"
        }
      ]
    },
    {
      "cell_type": "markdown",
      "metadata": {
        "id": "rpey2-LQGJaZ"
      },
      "source": [
        "## Question 3"
      ]
    },
    {
      "cell_type": "code",
      "metadata": {
        "id": "MSZypBLVGZ0A"
      },
      "source": [
        "# Bellman Operator\n",
        "def T(v):\n",
        "    V = dict(zip( STATES, v ))\n",
        "    Tv = []\n",
        "    for si in STATES:\n",
        "        iter = []\n",
        "        for a in ACTIONS:\n",
        "            val = 0\n",
        "            for sj in STATES:\n",
        "                val += PROB[si][a][sj]*( REWARD[si] + GAMMA * V[sj] )\n",
        "            iter.append( val )\n",
        "        Tv.append( max( iter ) )\n",
        "    return np.array(Tv)"
      ],
      "execution_count": null,
      "outputs": []
    },
    {
      "cell_type": "code",
      "metadata": {
        "id": "gmhdM0Tt3KnW"
      },
      "source": [
        "def Value_Iteration(epochs=250):\n",
        "    y1, y2 = [], []\n",
        "    V = np.zeros(len(STATES) )\n",
        "    for _ in range(epochs):\n",
        "        y1.append(V[0])\n",
        "        y2.append(V[1])\n",
        "        V = T(V)\n",
        "    y1.append(V[0])\n",
        "    y2.append(V[1])\n",
        "    x = list( range(len(y1)))\n",
        "    plt.plot(x, y1, x, y2)\n",
        "    plt.show()\n",
        "    return V"
      ],
      "execution_count": null,
      "outputs": []
    },
    {
      "cell_type": "markdown",
      "metadata": {
        "id": "TAMozeTDOp73"
      },
      "source": [
        "* The value seems to converge to [42.4, 46.4] after at least 250 iterations. It doesn't increase on increasing the number of iterations"
      ]
    },
    {
      "cell_type": "code",
      "metadata": {
        "colab": {
          "base_uri": "https://localhost:8080/",
          "height": 282
        },
        "id": "Drl-Z47yL3sM",
        "outputId": "bc9b12b1-a4fb-4fc8-97a9-02108f3b7d0a"
      },
      "source": [
        "Value_Iteration(250)"
      ],
      "execution_count": null,
      "outputs": [
        {
          "output_type": "display_data",
          "data": {
            "image/png": "[encoded data removed]",
            "text/plain": [
              "<Figure size 432x288 with 1 Axes>"
            ]
          },
          "metadata": {
            "tags": [],
            "needs_background": "light"
          }
        },
        {
          "output_type": "execute_result",
          "data": {
            "text/plain": [
              "array([42.4, 46.4])"
            ]
          },
          "metadata": {
            "tags": []
          },
          "execution_count": 11
        }
      ]
    },
    {
      "cell_type": "markdown",
      "metadata": {
        "id": "7uyafGOvMgZO"
      },
      "source": [
        "## Question 4"
      ]
    },
    {
      "cell_type": "code",
      "metadata": {
        "id": "vulsp0-PNU_0"
      },
      "source": [
        "# Bellman Operator\n",
        "def argT(v):\n",
        "    V = dict(zip( STATES, v ))\n",
        "    Tv = {}\n",
        "    for si in STATES:\n",
        "        iter = []\n",
        "        for a in ACTIONS:\n",
        "            val = 0\n",
        "            for sj in STATES:\n",
        "                val += PROB[si][a][sj]*( REWARD[si] + GAMMA * V[sj] )\n",
        "            iter.append( val )\n",
        "        Tv[si] = ACTIONS[ np.argmax( np.array(iter) ) ]\n",
        "    return Tv"
      ],
      "execution_count": null,
      "outputs": []
    },
    {
      "cell_type": "code",
      "metadata": {
        "id": "oIYJ0k6aO-2p"
      },
      "source": [
        "def Policy_Iteration(epochs=250):\n",
        "    pi = { s: random.choice(ACTIONS) for s in STATES }\n",
        "    print('Start Policy:', pi, ' Value: ', V_PI( pi ) )\n",
        "    for _ in range(epochs):\n",
        "        value = V_PI( pi )\n",
        "        pi = argT(value)\n",
        "    print('Final Policy:', pi, ' Value: ', V_PI( pi ) )\n",
        "    return pi, V_PI( pi )          \n"
      ],
      "execution_count": null,
      "outputs": []
    },
    {
      "cell_type": "code",
      "metadata": {
        "colab": {
          "base_uri": "https://localhost:8080/"
        },
        "id": "lKTCff5aRmbU",
        "outputId": "2aa3c493-fc8a-4998-f628-9c9421693126"
      },
      "source": [
        "Policy_Iteration(250)"
      ],
      "execution_count": null,
      "outputs": [
        {
          "output_type": "stream",
          "text": [
            "Start Policy: {'s1': 'LEFT', 's2': 'LEFT'}  Value:  [13.6 17.6]\n",
            "Final Policy: {'s1': 'RIGHT', 's2': 'RIGHT'}  Value:  [42.4 46.4]\n"
          ],
          "name": "stdout"
        },
        {
          "output_type": "execute_result",
          "data": {
            "text/plain": [
              "({'s1': 'RIGHT', 's2': 'RIGHT'}, array([42.4, 46.4]))"
            ]
          },
          "metadata": {
            "tags": []
          },
          "execution_count": 14
        }
      ]
    },
    {
      "cell_type": "code",
      "metadata": {
        "id": "cswqhwYASi5T"
      },
      "source": [
        ""
      ],
      "execution_count": null,
      "outputs": []
    }
  ]
}